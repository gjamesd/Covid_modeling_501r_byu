{
  "nbformat": 4,
  "nbformat_minor": 0,
  "metadata": {
    "colab": {
      "name": "project_1_solo.ipynb",
      "provenance": []
    },
    "kernelspec": {
      "name": "python3",
      "display_name": "Python 3"
    }
  },
  "cells": [
    {
      "cell_type": "markdown",
      "metadata": {
        "id": "rxXNFLJ-eSqU"
      },
      "source": [
        "### James Griffin \n",
        "#### Project 1 \n",
        "#### cs 501R \n"
      ]
    },
    {
      "cell_type": "markdown",
      "metadata": {
        "id": "FGNGFoW3EAcI"
      },
      "source": [
        "Empirical evaluation of an agent-based SEIR model over canonical networks\n",
        "\n",
        "This project builds on Homework 5. Create at least three models for a BYU classroom setting using one of the canonical graph types (e.g., lattice, star, random, ring, ...).  Choose whatever you'd like.\n",
        "\n",
        "Create an agent-based model for the spread of COVID-19 through the classroom assuming that no quarantining takes place. Agent states should be one from the set susceptible, exposed, infectious, and removed (SEIR). Use probability models from Dr. Berrett's presentation (see slide deck from Feb 3 lecture posted under course content). Use at least two sets of probabilities.\n",
        "\n",
        "Choose two classroom sizes (e.g., 40, 100), and two models for how frequently the class meets (e.g., every day, MWF, TTh). \n",
        "\n",
        "Run multiple simulations since the ABM must sample the probabilities to model randomness in spread.\n",
        "\n",
        "Explain the kind of classroom layout or seating arrangement that the graph would model.\n",
        "Discuss how different graph models affect spread.\n",
        "Discuss how different probability parameters affect spread.\n",
        "Discuss how classroom size affects spread.\n",
        "When you present results, include some measure of uncertainty. (One useful approach is to use interquartile range.)\n",
        "I won't grade on writing style so you needn't spend a lot of time on grammar, but be sure that you explain what choices you make, that you describe results, and that you justify observations about the results.\n",
        "\n"
      ]
    },
    {
      "cell_type": "code",
      "metadata": {
        "id": "E7Zat14qeXZE"
      },
      "source": [
        "#import bunch of stuff \n",
        "import numpy as np\n",
        "import pandas as pd\n",
        "from scipy.integrate import odeint\n",
        "import matplotlib.pyplot as plt\n",
        "import random\n",
        "import itertools\n",
        "import networkx as nx\n",
        "from itertools import combinations, groupby\n",
        "import math"
      ],
      "execution_count": 3,
      "outputs": []
    },
    {
      "cell_type": "code",
      "metadata": {
        "id": "1mwOsFCFea96"
      },
      "source": [
        "#we need to create a bunch of different graphs to then run the agent based models on\n",
        "\n",
        "#cycle graphs, \n",
        "c100 = nx.cycle_graph(100)\n",
        "c40 = nx.cycle_graph(40)\n",
        "\n",
        "#star graphs\n",
        "s100 = nx.star_graph(100)\n",
        "s40 = nx.star_graph(40)\n",
        "\n",
        "#latice\n",
        "l40 = nx.watts_strogatz_graph(40, 4, .4)\n",
        "l100 = nx.watts_strogatz_graph(100, 4, .4)\n",
        "t = pd.DataFrame(nx.to_numpy_matrix(l100))"
      ],
      "execution_count": 20,
      "outputs": []
    },
    {
      "cell_type": "code",
      "metadata": {
        "id": "QQC4uviCvSRw"
      },
      "source": [
        "def generate_adj_mat_df(graph):\n",
        "    adj_mat = pd.DataFrame(nx.to_numpy_matrix(graph))\n",
        "    return adj_mat\n",
        "\n",
        "adj_c100 = generate_adj_mat_df(c100)\n",
        "adj_c40 = generate_adj_mat_df(c40)\n",
        "adj_s100 = generate_adj_mat_df(s100)\n",
        "adj_s40 = generate_adj_mat_df(s40)\n",
        "adj_l100 = generate_adj_mat_df(l100)\n",
        "adj_l40 = generate_adj_mat_df(l40)\n"
      ],
      "execution_count": 5,
      "outputs": []
    },
    {
      "cell_type": "code",
      "metadata": {
        "id": "8ZRgkX56zXnl"
      },
      "source": [
        "def get_infection_period():\n",
        "    return int(np.random.normal(2.25, 0.105))\n",
        "\n",
        "def get_exposure_period():\n",
        "    return int(np.random.lognormal(1.57, 0.65))\n",
        "\n",
        "def p_dc(p_1c, day):\n",
        "    beta = -0.0050367\n",
        "    molecular = (p_1c / (1 - p_1c)) * np.exp(beta * (day**3 -1))\n",
        "    denominator = 1 + molecular\n",
        "    return molecular / denominator "
      ],
      "execution_count": 6,
      "outputs": []
    },
    {
      "cell_type": "code",
      "metadata": {
        "id": "w1zi6FDo0Who"
      },
      "source": [
        ""
      ],
      "execution_count": 6,
      "outputs": []
    },
    {
      "cell_type": "code",
      "metadata": {
        "id": "9CYnOFhWjFIJ"
      },
      "source": [
        "#Will need this later \n",
        "def lognorm(self,x,mu=0,sigma=1):\n",
        "   a = (math.log(x) - mu)/math.sqrt(2*sigma**2)\n",
        "   p = 0.5 + 0.5*math.erf(a)\n",
        "   return p"
      ],
      "execution_count": 7,
      "outputs": []
    },
    {
      "cell_type": "code",
      "metadata": {
        "colab": {
          "base_uri": "https://localhost:8080/",
          "height": 140
        },
        "id": "xtaYJnBYiKXx",
        "outputId": "1fba0e13-776f-46c3-ce61-17a3521cf8e6"
      },
      "source": [
        "#tips from barbra \n",
        "'''\n",
        "def time_step_seri(graph, seir_record, susceptible, exposed, infected, recovered, p_1c, day):\n",
        "    suceptible_temp = []\n",
        "    exposed_temp = []\n",
        "    infected_temp = []\n",
        "    recovered_temp = []\n",
        "\n",
        "    for index in range(len(seir_record)):\n",
        "        #getting infected node\n",
        "        if seir_recored[index][2] == 1:\n",
        "            infected_temp.append(index)\n",
        "        \n",
        "        #getting exposed node \n",
        "        if seir_record[index][1] ==1:\n",
        "            exposed_temp.append(index)\n",
        "        \n",
        "        #getting susceptible node\n",
        "        if seir_record[index][0] == 1:\n",
        "            suceptible_temp.append(index)\n",
        "        #getting recovered node\n",
        "        if seir_record[index]:\n",
        "            #do more stuff \n",
        "\n",
        "\n",
        "    \n",
        "\n",
        "    for i in infected_temp:\n",
        "        #new_exposures\n",
        "        connected_edge = np.where(graph[i == 1)\n",
        "        connected_edge = list(connected_edge[0])\n",
        "        print(connected_edge)\n",
        "\n",
        "        for edge in connected_edge:\n",
        "            if seir_recored[edge][0] == 1:\n",
        "                pdc = p_dc(p_1c, day)\n",
        "                r = random.random()\n",
        "                if r < pdc: #if edge turn into exposed or not\n",
        "                    exp = get_exposure_period\n",
        "                    inp = get_infection_period()\n",
        "\n",
        "                    #get into SEIR Recordc change status \n",
        "                    seir_record[edge][0] = 0\n",
        "                    seir_record[edge][1] = 1\n",
        "                    seir_record[edge][4] = day\n",
        "                    seir_record[edge][5] = exp\n",
        "                    seir_record[edge][6] = day + exp\n",
        "                    seir_record[edge][7] = inp\n",
        "\n",
        "    #new infections \n",
        "    for e in exposed_temp:\n",
        "        #if exposed period is over move to infected \n",
        "        if day == seir_record[e][6]:\n",
        "            #change status \n",
        "            seir_record[e][2] = 1\n",
        "            seir_record[e][1] = 0\n",
        "        \n",
        "    for i in infected_temp:\n",
        "        #recovered, if infected time is over \n",
        "        if day >= seir+record[i][6] + seir_record[i][7]:\n",
        "            seir_record[i][3] = 1\n",
        "            seir_record[i][2] = 0\n",
        "\n",
        "    susceptable.append(len(suceptible_temp))\n",
        "    exposed.append(len(exposed_temp))\n",
        "    infected.append(len(infected_temp))\n",
        "    recovered.append(len(recoverd_temp))\n",
        "\n",
        "    return suceptble, exposed, infected, recovered \n",
        "\n",
        "'''"
      ],
      "execution_count": 8,
      "outputs": [
        {
          "output_type": "execute_result",
          "data": {
            "application/vnd.google.colaboratory.intrinsic+json": {
              "type": "string"
            },
            "text/plain": [
              "'\\ndef time_step_seri(graph, seir_record, susceptible, exposed, infected, recovered, p_1c, day):\\n    suceptible_temp = []\\n    exposed_temp = []\\n    infected_temp = []\\n    recovered_temp = []\\n\\n    for index in range(len(seir_record)):\\n        #getting infected node\\n        if seir_recored[index][2] == 1:\\n            infected_temp.append(index)\\n        \\n        #getting exposed node \\n        if seir_record[index][1] ==1:\\n            exposed_temp.append(index)\\n        \\n        #getting susceptible node\\n        if seir_record[index][0] == 1:\\n            suceptible_temp.append(index)\\n        #getting recovered node\\n        if seir_record[index]:\\n            #do more stuff \\n\\n\\n    \\n\\n    for i in infected_temp:\\n        #new_exposures\\n        connected_edge = np.where(graph[i == 1)\\n        connected_edge = list(connected_edge[0])\\n        print(connected_edge)\\n\\n        for edge in connected_edge:\\n            if seir_recored[edge][0] == 1:\\n                pdc = p_dc(p_1c, day)\\n                r = random.random()\\n                if r < pdc: #if edge turn into exposed or not\\n                    exp = get_exposure_period\\n                    inp = get_infection_period()\\n\\n                    #get into SEIR Recordc change status \\n                    seir_record[edge][0] = 0\\n                    seir_record[edge][1] = 1\\n                    seir_record[edge][4] = day\\n                    seir_record[edge][5] = exp\\n                    seir_record[edge][6] = day + exp\\n                    seir_record[edge][7] = inp\\n\\n    #new infections \\n    for e in exposed_temp:\\n        #if exposed period is over move to infected \\n        if day == seir_record[e][6]:\\n            #change status \\n            seir_record[e][2] = 1\\n            seir_record[e][1] = 0\\n        \\n    for i in infected_temp:\\n        #recovered, if infected time is over \\n        if day >= seir+record[i][6] + seir_record[i][7]:\\n            seir_record[i][3] = 1\\n            seir_record[i][2] = 0\\n\\n    susceptable.append(len(suceptible_temp))\\n    exposed.append(len(exposed_temp))\\n    infected.append(len(infected_temp))\\n    recovered.append(len(recoverd_temp))\\n\\n    return suceptble, exposed, infected, recovered \\n\\n'"
            ]
          },
          "metadata": {
            "tags": []
          },
          "execution_count": 8
        }
      ]
    },
    {
      "cell_type": "code",
      "metadata": {
        "id": "hCKwFIEvio5T"
      },
      "source": [
        ""
      ],
      "execution_count": 8,
      "outputs": []
    },
    {
      "cell_type": "code",
      "metadata": {
        "id": "8hfx25ysBVEx"
      },
      "source": [
        "def p_dc(p_1c, day):\n",
        "    beta = -0.0050367\n",
        "    molecular = (p_1c / (1 - p_1c)) * np.exp(beta * (day**3 -1))\n",
        "    denominator = 1 + molecular\n",
        "    return molecular / denominator "
      ],
      "execution_count": 9,
      "outputs": []
    },
    {
      "cell_type": "code",
      "metadata": {
        "id": "cylzu2nZU1x0"
      },
      "source": [
        "#The goal of this lab is to introduce a graphical model to the SEIR model\n",
        "#coded earlier in the semester \n",
        "\n",
        "#copying code over from that lab \n",
        "\n",
        "# Just like the last homework except adding a few extra variables \n",
        "#this is programming the exposed compartment of the model\n",
        "def seir_model(sim, t, N, beta, gamma, delta):\n",
        "    ''' function takes into a simulation state, a time, number of people and \n",
        "    then parameters for E, beta and gamma as defined in class '''\n",
        "\n",
        "    S, E, I, R = sim\n",
        "    dSdt = -beta * S * I / N\n",
        "    dEdt = beta * S * I / N - delta * E\n",
        "    dIdt = delta * E - gamma * I\n",
        "    dRdt = gamma * I\n",
        "\n",
        "    return dSdt, dEdt, dIdt, dRdt\n",
        "\n",
        "#So we will build a function for simulating the model \n",
        "def sim_model(adj_mat_df, class_size,):\n",
        "    #number of people suceptable will be random\n",
        "    suceptable = len(adj_mat_df)\n",
        "\n",
        "    #and we will start with a pre set number of people infected \n",
        "    inf = 0\n",
        "    recov = 0 \n",
        "    \n",
        "    #modeling the first year \n",
        "    days = range(0,len(adj_mat_df))\n",
        "\n",
        "    inf_prob = .038\n",
        "\n",
        "    #and the recovery rate will be the same \n",
        "    recov_rate = [.001, .05, .1, .5]\n",
        "    #recov_rate = .986\n",
        "\n",
        "    set_infected = [(0, 0)]\n",
        "    list_infected = [0]\n",
        "    set_exposed = [(0, 0)]\n",
        "    list_exposed = [0]\n",
        "    set_recovered = [0]\n",
        "    list_infected = [0]\n",
        "\n",
        "    set_susceptable = [len(adj_mat_df) -1]\n",
        "\n",
        "\n",
        "\n",
        "    #Not the most efficient way, but I think Im gonna double for loop this\n",
        "    #for column\n",
        "    #maybe add a while condition to say that whild the last entry in suceptable is != 0 \n",
        "\n",
        "    for i in range(len(adj_mat_df)):\n",
        "        # for each row \n",
        "        for j in range(len(adj_mat_df[i])): \n",
        "            #if there is an interaction between the people\n",
        "            if adj_mat_df.loc[i][j] == 1:\n",
        "                #is someone entiering the exposed state? \n",
        "                draw = np.random.uniform(low=0.0, high=1.0, size=1)[0]\n",
        "                if draw <= .05:\n",
        "                    #adding this  person  to set_exposed - has entered exposed state \n",
        "                    #and this person leaves suceptable and enters exposed \n",
        "                    inc_period = np.random.lognormal(mean = 1.57,sigma =.65,size=1).round()\n",
        "                    #print(inc_period)\n",
        "                    set_susceptable.append(set_susceptable[-1] -1)\n",
        "                    list_exposed.append(i)\n",
        "                    set_exposed.append(((i, inc_period)))\n",
        "                    #then how long will this person stay in incubation:\n",
        "                    \n",
        "                    #getting probabiity of staying infections \n",
        "                    #seeing how long he he says infected \n",
        "                    num_days = np.arange(0, inc_period, 1)\n",
        "                    for n in num_days:\n",
        "                        #continuing in exposed until getting out \n",
        "                        set_exposed.append(((i, inc_period - n)))\n",
        "\n",
        "                        pdc = lognorm(inc_period, random.random())\n",
        "                        r = random.random()\n",
        "\n",
        "                        if r < pdc: \n",
        "                            #becomes infected \n",
        "                            #find the number of days in infected until put in recovered \n",
        "                            inf_period = np.random.lognormal(mean = 2.25,sigma =.105,size=1).round()\n",
        "                            inf_days = np.arange(0, inf_period, 1)                           \n",
        "                            set_infected.append(((i, inf_period - n)))\n",
        "\n",
        "\n",
        "                            list_infected.append(i)\n",
        "                            #and leaves the exposed state\n",
        "                            set_exposed.remove((i, inc_period - n))\n",
        "\n",
        "                            #only those infected can recover \n",
        "                            #so do essentially the same thing \n",
        "                            \n",
        "                            for k in inf_days:\n",
        "                                pdc = lognorm(inf_period, random.random())\n",
        "                                r = random.random()\n",
        "                                if r < pdc: \n",
        "                                    #becomes leaves infected \n",
        "                                    set_infected.remove(set_infected[-1])\n",
        "                                    #and enters recovered state\n",
        "                                    set_recovered.append(set_recovered[-1]+1)\n",
        "                                if r >= pdc:\n",
        "                                    #person stays infected \n",
        "                                    set_infected.append(((i, inf_period-k)))\n",
        "                                    #and does not go into recovered \n",
        "                                    set_recovered.append(set_recovered[-1])\n",
        "\n",
        "                                if n +1 == len(inf_days):\n",
        "                                    #person recovers \n",
        "                                    #leaves infected \n",
        "                                    set_infected.remove(set_infected[-1])\n",
        "                                    list_infected.remove(list_infected[-1])\n",
        "                                    #and enters recovered state\n",
        "                                    set_recovered.append(set_recovered[-1]+1)\n",
        "\n",
        "                        else:\n",
        "                        #Exposed but not infected \n",
        "                        #our susceptable wont change \n",
        "                            set_recovered.append(set_recovered[-1])\n",
        "                            set_infected.append(set_infected[-1])\n",
        "                            list_infected.append(list_infected[-1])\n",
        "                    else:\n",
        "                        set_recovered.append(set_recovered[-1])\n",
        "                        set_infected.append(set_infected[-1])\n",
        "                        set_exposed.append(set_exposed[-1])\n",
        "                        list_infected.append(list_infected[-1])\n",
        "                        set_susceptable.append(set_susceptable[-1])\n",
        "                        #our infected wont change\n",
        "                            #set_infected.append(((i, 0)))\n",
        "                \n",
        "\n",
        "                else:\n",
        "                    #Not exposed so thus not infected and not recovered \n",
        "                    set_exposed.append((set_exposed[-1]))\n",
        "                    set_infected.append(set_infected[-1])\n",
        "                    set_recovered.append(set_recovered[-1])\n",
        "                    set_susceptable.append(set_susceptable[-1])\n",
        "                    list_exposed.append(list_exposed[-1])\n",
        "                    list_infected.append(list_infected[-1])\n",
        "\n",
        "\n",
        "    \n",
        "\n",
        "    set_recovered = set_recovered[:len(set_susceptable)]\n",
        "    exp = list_exposed\n",
        "    test = [None]*len(set_susceptable)\n",
        "\n",
        "    for i in range(len(exp)):\n",
        "        test[exp[i]] = exp[i]\n",
        "\n",
        "    t = pd.DataFrame(test).fillna(method='ffill').fillna(0)\n",
        "    t1 = t[0].tolist()\n",
        "    #print(t1)\n",
        "    exp_count = [0]\n",
        "    for i in range(len(t1)-1):\n",
        "        if t1[i+1] != t1[i]:\n",
        "            exp_count.append(exp_count[-1]+1)\n",
        "        else:\n",
        "            exp_count.append(exp_count[-1])\n",
        "\n",
        "    #list_exposed = list_infected[:len(exp_count)]\n",
        "    days = list(range(0, len(exp_count)))\n",
        "    list_infected = list_infected[:len(days)]\n",
        "    \n",
        "    inf = list_infected\n",
        "    t2 = [None]*len(list_infected)\n",
        "    for i in range(len(inf)):\n",
        "        t2[inf[i]] = inf[i]\n",
        "\n",
        "    t3 = pd.DataFrame(t2).fillna(method='ffill').fillna(0)\n",
        "    t4= t3[0].tolist()\n",
        "\n",
        "    inf_count = [0]\n",
        "    for i in range(len(t4)-1):\n",
        "        if t4[i+1] != t4[i]:\n",
        "            inf_count.append(inf_count[-1]+1)\n",
        "        else:\n",
        "            inf_count.append(inf_count[-1])\n",
        "    #print(inf_count)\n",
        "    \n",
        "    \n",
        "    \n",
        "    #list_infected\n",
        "    list_recovered = pd.DataFrame(set_susceptable)\n",
        "  \n",
        "\n",
        "    list_recov = list(class_size - list_recovered[0])\n",
        "\n",
        "\n",
        "\n",
        "    '''\n",
        "    exposed = len(set(set_exposed))\n",
        "    S = len(adi_mat_df) #- inf+len(set(set_infected))   \n",
        "    E = exposed\n",
        "    I = inf+len(set(set_infected))\n",
        "    R = random.choice(recov_rate)\n",
        "    N = S+I+R+E\n",
        "    #print(N)\n",
        "    beta =  0.0536\n",
        "    gamma = R\n",
        "    delta = random.choice(inc_period)\n",
        "    #print([S,I,R])\n",
        "    ret = odeint(seir_model, [S,E,I,R], days, args = (N, beta,  gamma, delta))\n",
        "    S_, E_, I_, R_ = ret.T\n",
        "\n",
        "    #making plots all nice \n",
        "    textstr = 'seir model  simulation'+ \"\\n\"\n",
        "    textstr += \"Susceptable: \"+str(S)+'\\n'\n",
        "    textstr += \"Infected: \"+str(I)+'\\n'\n",
        "    textstr += \"Recovered: \"+str(R)+'\\n'\n",
        "    textstr += \"Pop_number: \"+str(N)+'\\n'\n",
        "    textstr += \"Gamma: \"+str(gamma)+'\\n'\n",
        "    textstr += 'Beta: '+str(beta)+'\\n'\n",
        "    textstr += \"Delta: \"+str(delta)+'\\n'\n",
        "    textstr += \"R0: \"+str(beta/gamma)+'\\n'\n",
        "    '''\n",
        "    results = pd.DataFrame( \n",
        "            {'Susceptable': set_susceptable,\n",
        "             \"Exposed\": exp_count,\n",
        "             'Infected': inf_count,\n",
        "             'Recovered': list_recov,\n",
        "             'Days':days\n",
        "            })\n",
        "        #print(results.head())\n",
        "    results.plot(x ='Days', y = ['Susceptable', \"Exposed\", \n",
        "                                     \"Infected\", 'Recovered'], kind = 'area', \n",
        "                     stacked = False)\n",
        "    #print(len(results))\n",
        "    plt.title(\"SEIR Model\")\n",
        "    #plt.text(1, 0.1, fontsize = 12,transform=plt.gcf().transFigure)\n",
        "    #'''          \n",
        "    plt.show()\n"
      ],
      "execution_count": 14,
      "outputs": []
    },
    {
      "cell_type": "code",
      "metadata": {
        "colab": {
          "base_uri": "https://localhost:8080/",
          "height": 312
        },
        "id": "ttJTlakDoxS2",
        "outputId": "f6415f08-08bf-45ce-cb78-1b2ec0b5d186"
      },
      "source": [
        "sim_model(adj_c40, 40)\n",
        "print(\"This is for a cycle graph of 40 people \")"
      ],
      "execution_count": 15,
      "outputs": [
        {
          "output_type": "display_data",
          "data": {
            "image/png": "[encoded data removed]",
            "text/plain": [
              "<Figure size 432x288 with 1 Axes>"
            ]
          },
          "metadata": {
            "tags": [],
            "needs_background": "light"
          }
        },
        {
          "output_type": "stream",
          "text": [
            "This is for a cycle graph of 40 people \n"
          ],
          "name": "stdout"
        }
      ]
    },
    {
      "cell_type": "code",
      "metadata": {
        "id": "KapiQqB4spUG",
        "colab": {
          "base_uri": "https://localhost:8080/",
          "height": 312
        },
        "outputId": "2c2adb58-a792-4aa2-9ad6-0616b790839f"
      },
      "source": [
        "sim_model(adj_s100, 100)\n",
        "print(\"This is for a star graph of 100 people \")"
      ],
      "execution_count": 16,
      "outputs": [
        {
          "output_type": "display_data",
          "data": {
            "image/png": "[encoded data removed]",
            "text/plain": [
              "<Figure size 432x288 with 1 Axes>"
            ]
          },
          "metadata": {
            "tags": [],
            "needs_background": "light"
          }
        },
        {
          "output_type": "stream",
          "text": [
            "This is for a star graph of 100 people \n"
          ],
          "name": "stdout"
        }
      ]
    },
    {
      "cell_type": "markdown",
      "metadata": {
        "id": "AJoe-299pERB"
      },
      "source": [
        ""
      ]
    },
    {
      "cell_type": "code",
      "metadata": {
        "id": "aHJvmCU-s74I",
        "colab": {
          "base_uri": "https://localhost:8080/",
          "height": 312
        },
        "outputId": "3dfc96f4-f689-4f29-c6dd-782bc1f7f633"
      },
      "source": [
        "sim_model(adj_l100, 100)\n",
        "print(\"This is for a perturbed lattice graph of 100 people \")"
      ],
      "execution_count": 21,
      "outputs": [
        {
          "output_type": "display_data",
          "data": {
            "image/png": "[encoded data removed]",
            "text/plain": [
              "<Figure size 432x288 with 1 Axes>"
            ]
          },
          "metadata": {
            "tags": [],
            "needs_background": "light"
          }
        },
        {
          "output_type": "stream",
          "text": [
            "This is for a perturbed lattice graph of 100 people \n"
          ],
          "name": "stdout"
        }
      ]
    },
    {
      "cell_type": "code",
      "metadata": {
        "colab": {
          "base_uri": "https://localhost:8080/",
          "height": 312
        },
        "id": "C8f0GW5wOhRN",
        "outputId": "823ccefc-c73d-4408-bedb-0f3ab7e810bb"
      },
      "source": [
        "sim_model(adj_l40, 40)\n",
        "print(\"This is for a perturbed lattice graph of 100 people \")"
      ],
      "execution_count": 22,
      "outputs": [
        {
          "output_type": "display_data",
          "data": {
            "image/png": "[encoded data removed]",
            "text/plain": [
              "<Figure size 432x288 with 1 Axes>"
            ]
          },
          "metadata": {
            "tags": [],
            "needs_background": "light"
          }
        },
        {
          "output_type": "stream",
          "text": [
            "This is for a perturbed lattice graph of 100 people \n"
          ],
          "name": "stdout"
        }
      ]
    },
    {
      "cell_type": "markdown",
      "metadata": {
        "id": "SR3OIoQxOiiO"
      },
      "source": [
        "Ok so this is my write up part of the project: \n",
        "\n",
        "This program can take in any type of graph, but here I only tested 3 as directed by the project spects. The types of graphs were a cycle, star and a watts-strogatz graph, where we preturb the lattice graph slightly, to make it more complex. We had two class sizes which were the number of nodes for each graph, 40 or 100. The cycle and star graphs are more of an isolation, social distanced scinario, where interactions are limited and the Watts Strogatz preturbed lattice graph provides more of a practical approach to life. Where we are careful and social distance, but have to go to the store, have interactions that are unplanned where we come across different people or places than our immidate families, providing more opportunitiess to interact with the virus. \n",
        "\n",
        "So for the model directly, above, that is the lattice graph, that has been slightly preturbed, according to the Watts-Strogatz methods that we covered in class. I used a beta value of .4, redirecting some of the edges to different nodes, with a probability of .4, instead of the ones right next to them. While still a rather simple graph, it is this increased complexity from the randomness that allows the populations of infected and exposed persons to increase faster and to higher levels than the more simple star and cycle graphs. The steady decrease in in the susceptable  population is the inverse of our recovered population. for every person who moves away from susceptable, that is one person recovered. however to get to recovered, one must first become exposed and then infected. The goal of communities has been to try and have that passing be controlled in some way. \n",
        "\n",
        "We can contrast the preturbed Watts-Strogatz graph with the star and cycle graphs that we showed first. The star graph is the simplest examle. Because every node is only connected to one other node in the graph, and each graph is connected to the same nodes, almost none of the nodes interact directly with one another, and given this structure, it is even unlikley that they have second hand exposure to an infected person / node. Thus the opportunitites for transmtion of the virus are low. This can also be seen in the cycle graph, which is the first one graph we have shown. We can clearly see that the cycle graph is less of an, \"complete isolation\" graph and more of a quarantine with those around you and limit interactions graph. As their populations for exposed/ infected/ recovered are higher, but again, very low because of the limited interactions of only its direct neighbors.\n",
        "\n",
        "Again the pertubred lattice model is the one with the most amount of interactions spanning the graph, so nodes have more opportunities to interact with others that are not directly within 2 nodes on either side. This greater interaction is what is leading to the rise in the infections population. If we were to look at a more complecated graph, perhaps a complete or some other form of graph where nodes are more interconnected and people have more interactions, we would undoubtedly see more exposure, infection and recovery, simply as a funtion that the virus would have more opportunities to spread and people would have more opportuntiies to move along the progression of the path. \n",
        "\n",
        "Increasing the classroom size would not change very much the spread of the star graph, going from 40 people in essentially complete isolation to 100 people in complete issolation, still gives very low risk of transmition. however the Watts Strogatz lattice grpah, is the one where a difference could be potentially made. We can see both graphs above. Because the population is lower, the number of potential transmisions is also lower. They behave very similarly, because they very similar graphs, but they have different population growth rates for the different categories. \n",
        "\n",
        "If we had taken different probabiltiies, increasing the mean of incubation periods for infected and exposed, or increasing the varience, we would have seen different results. with a higher mean, but a wider varience, we could have seen people stay infected for longer or very short time periods. providing more vairnence to the growth rates of the different sub populations of each group \n",
        "\n",
        "\n"
      ]
    },
    {
      "cell_type": "code",
      "metadata": {
        "id": "waKnlbtJs_zA"
      },
      "source": [
        ""
      ],
      "execution_count": 289,
      "outputs": []
    },
    {
      "cell_type": "code",
      "metadata": {
        "id": "o6jHy6FpT1Pr"
      },
      "source": [
        ""
      ],
      "execution_count": null,
      "outputs": []
    }
  ]
}